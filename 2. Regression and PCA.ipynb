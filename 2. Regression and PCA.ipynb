{
 "cells": [
  {
   "cell_type": "markdown",
   "id": "23b5a238",
   "metadata": {},
   "source": [
    "## CS 506 Spring 2021 - HW2 \n",
    "### Classification and Dimensionality Reduction (Total: 32 points)\n",
    "#### Package Limitations: None\n",
    "\n",
    "#### Name: Kaiyan Xu\n",
    "#### BU ID: U73265566\n",
    "#### BU Email: stevenhh@bu.edu\n",
    "\n",
    "#### People you consulted working on this hw:\n",
    "\n",
    "\n",
    "\n"
   ]
  },
  {
   "cell_type": "markdown",
   "id": "730641ac",
   "metadata": {},
   "source": [
    "### 1. Least Squares and Logistic Regression\n",
    "\n",
    "In this section, we are going to compare two linear models for classification, especially when outliers are presented in the data. Please refer to Section 4.1.3 at Page 184 of the book [Pattern Recognition and Machine Learning](http://users.isr.ist.utl.pt/~wurmd/Livros/school/Bishop%20-%20Pattern%20Recognition%20And%20Machine%20Learning%20-%20Springer%20%202006.pdf) for the context of this problem as well as the explanation of Figure1\n",
    "\n",
    "Figure 1: The comparison of least square and logistic regression in classification of two classes with/without outliers\n",
    "\n",
    "![Figure 1](figure_1.png \"some titile\")\n",
    "\n",
    "a) \\[1 pt.\\] Generate labeled random 2D points like the ones shown in the left subfigure of Figure1. Note that the red crosses and blue circles are points of different classes, so you may need to have a third column storing the label info of the 2D points. Let’s call this data “data without outlier”. Now on top of this data, add a few outliers to the blue circles just like the right subfigure of Figure1 and save the data as “data with outlier”. You may either use code or even manually choose some random 2D points. Your data need not to be exactly the same as the ones shown on the plots."
   ]
  },
  {
   "cell_type": "code",
   "execution_count": 29,
   "id": "a89d43b2",
   "metadata": {},
   "outputs": [],
   "source": [
    "import numpy as np\n",
    "import matplotlib.pyplot as plt\n",
    "import pandas as pd\n",
    "from typing import List, Dict, Tuple\n",
    "import numpy as np\n",
    "import matplotlib.pyplot as plt\n",
    "import random"
   ]
  },
  {
   "cell_type": "code",
   "execution_count": 50,
   "id": "c9dfe79f",
   "metadata": {},
   "outputs": [],
   "source": [
    "def generate_random_points(with_outlier: bool):\n",
    "    \"\"\"\n",
    "    Generate a few random points and return such dataset\n",
    "    \n",
    "    :param with_outlier: whether outlier is generated with the data points\n",
    "    :return: dataframe\n",
    "    \"\"\"\n",
    "    random_float_x1 = []\n",
    "    random_float_x2 = []\n",
    "    \n",
    "    for index_X in range(50):\n",
    "        random_float_x1.append(random.uniform(-4, 1.8))\n",
    "        random_float_x2.append(random.uniform(-1, 3.5)) \n",
    "    x_without_outlier = np.append(random_float_x1, random_float_x2)\n",
    "    \n",
    "    random_float_y1 = []\n",
    "    random_float_y2 = []\n",
    "    \n",
    "    for index_Y in range(50):\n",
    "        random_float_y1.append(random_float_x1[index_Y] + random.uniform(0.5, 2.2))\n",
    "        random_float_y2.append(random_float_x2[index_Y] - random.uniform(0.5, 3.5))  \n",
    "    y_without_outlier = np.append(random_float_y1,random_float_y2)\n",
    "    \n",
    "    plt.scatter(random_float_x1, random_float_y1, c='red', s = 20)\n",
    "    plt.scatter(random_float_x2, random_float_y2, c='blue', s = 20)\n",
    "    plt.axis([-4, 9, -9, 4])\n",
    "    \n",
    "    if (with_outlier == False):\n",
    "        plt.show()\n",
    "        data = {'x': x_without_outlier, 'y': y_without_outlier, 'class': 0}\n",
    "        df = pd.DataFrame(data)\n",
    "        df.loc[:50, 'class'] = 1\n",
    "        return df\n",
    "    else:\n",
    "        # True\n",
    "        random_float_x_outlier = []\n",
    "        random_float_y_outlier = []\n",
    "        for index_X in range(10):\n",
    "            random_float_x_outlier.append(random.uniform(6.5, 8.5))\n",
    "        for index_y in range(10):\n",
    "            random_float_y_outlier.append(random.uniform(-5, -7))\n",
    "        plt.scatter(random_float_x_outlier, random_float_y_outlier, c='blue', s = 20)\n",
    "        plt.show()\n",
    "        data = {'x': np.concatenate((x_without_outlier, random_float_x_outlier)), \n",
    "                'y': np.concatenate((y_without_outlier, random_float_y_outlier)), 'class':1}\n",
    "        df = pd.DataFrame(data)\n",
    "        df.loc[:50, 'class'] = 1\n",
    "        return df"
   ]
  },
  {
   "cell_type": "code",
   "execution_count": 51,
   "id": "350f1b21",
   "metadata": {},
   "outputs": [
    {
     "data": {
      "image/png": "[encoded data removed]",
      "text/plain": [
       "<Figure size 432x288 with 1 Axes>"
      ]
     },
     "metadata": {
      "needs_background": "light"
     },
     "output_type": "display_data"
    }
   ],
   "source": [
    "# Do some test print outs to verify correctness\n",
    "df_without_outlier = generate_random_points(False)"
   ]
  },
  {
   "cell_type": "code",
   "execution_count": 52,
   "id": "da98fb40",
   "metadata": {},
   "outputs": [
    {
     "data": {
      "image/png": "[encoded data removed]",
      "text/plain": [
       "<Figure size 432x288 with 1 Axes>"
      ]
     },
     "metadata": {
      "needs_background": "light"
     },
     "output_type": "display_data"
    }
   ],
   "source": [
    "df_with_outlier = generate_random_points(True)"
   ]
  },
  {
   "cell_type": "markdown",
   "id": "e7e0bddd",
   "metadata": {},
   "source": [
    "b) \\[4 pts.\\] Use both the least squares method and the logistic regression method to classify the “data without outlier” and “data with outlier”."
   ]
  },
  {
   "cell_type": "code",
   "execution_count": 53,
   "id": "f5869606",
   "metadata": {},
   "outputs": [],
   "source": [
    "from sklearn.linear_model import LogisticRegression\n",
    "from sklearn import metrics\n",
    "\n",
    "def logistic_regression_classify(dataset):\n",
    "    \"\"\"\n",
    "    parameter: the results of generate_random_points(), which is a dataset\n",
    "    \"\"\"\n",
    "    df = dataset.to_numpy()\n",
    "    logreg = LogisticRegression().fit(df[:,:2],df[:,2])\n",
    "    return logreg.coef_, logreg.intercept_"
   ]
  },
  {
   "cell_type": "code",
   "execution_count": 54,
   "id": "731097e0",
   "metadata": {},
   "outputs": [],
   "source": [
    "from sklearn.linear_model import LinearRegression\n",
    "\n",
    "def least_squares_classify(dataset):\n",
    "    dataset.loc[50:, 'class'] = -1\n",
    "    df = dataset.to_numpy()\n",
    "    linreg = LinearRegression().fit(df[:,:2],df[:,2])\n",
    "    return  linreg.coef_, linreg.intercept_"
   ]
  },
  {
   "cell_type": "code",
   "execution_count": 55,
   "id": "079a6001",
   "metadata": {},
   "outputs": [],
   "source": [
    "# Classify data with and without outlier here \n",
    "# linear no outlier\n",
    "coef2, intercept2 = least_squares_classify(df_without_outlier)\n",
    "coef3, coef4 = coef2.T[0], coef2.T[1]\n",
    "slope2 = -coef3/coef4\n",
    "intercept2 = -intercept2/coef4\n",
    "\n",
    "# logistic outlier\n",
    "coef_out2, intercept_out2 = least_squares_classify(df_with_outlier)\n",
    "coef_out3, coef_out4 = coef_out2.T[0], coef_out2.T[1]\n",
    "slope_out2 = -coef_out3/coef_out4\n",
    "intercept_out2 = -intercept_out2/coef_out4\n",
    "\n",
    "# logistic no outlier\n",
    "coef, intercept = logistic_regression_classify(df_without_outlier)\n",
    "coef1, coef2 = coef.T[0], coef.T[1]\n",
    "slope = -coef1/coef2\n",
    "intercept = -intercept/coef2\n",
    "\n",
    "# logistic outlier\n",
    "coef_out, intercept_out = logistic_regression_classify(df_with_outlier)\n",
    "coef_out1, coef_out2 = coef_out.T[0], coef_out.T[1]\n",
    "slope_out = -coef_out1/coef_out2\n",
    "intercept_out = -intercept_out/coef_out2"
   ]
  },
  {
   "cell_type": "markdown",
   "id": "ff6a30ee",
   "metadata": {},
   "source": [
    "c) \\[2 pts.\\] Plot the classification results into two figures side by side just like Figure1. Have you got similar results like Figure1? Explain briefly why the logistic regression is not sensitive to outliers."
   ]
  },
  {
   "cell_type": "code",
   "execution_count": 56,
   "id": "c9fb82ee",
   "metadata": {},
   "outputs": [],
   "source": [
    "def plot_classification_results(dataset, slope1, slope2, intercept1, intercept2):\n",
    "    \"\"\"\n",
    "    Plot classification results of data with outlier and data without outlier\n",
    "    \n",
    "    :param: orginal dataset, slope and intercept of logistic regression and linear regression\n",
    "    \"\"\"\n",
    "    x = dataset['x']\n",
    "    y = dataset['y']\n",
    "    plt.scatter(x[0:50], y[0:50], c='red', s = 20)\n",
    "    plt.scatter(x[50:], y[50:], c='blue', s = 20)\n",
    "    plt.plot(x, slope2*x + intercept2, color = 'purple')\n",
    "    plt.plot(x, slope*x + intercept, color = 'green')\n",
    "    plt.axis([-4, 9, -9, 4])\n",
    "    plt.show()"
   ]
  },
  {
   "cell_type": "code",
   "execution_count": 57,
   "id": "13f18529",
   "metadata": {
    "scrolled": true
   },
   "outputs": [
    {
     "data": {
      "image/png": "[encoded data removed]",
      "text/plain": [
       "<Figure size 432x288 with 1 Axes>"
      ]
     },
     "metadata": {
      "needs_background": "light"
     },
     "output_type": "display_data"
    }
   ],
   "source": [
    "plot_classification_results(df_without_outlier, slope, slope2, intercept, intercept2)"
   ]
  },
  {
   "cell_type": "code",
   "execution_count": 58,
   "id": "b0669c57",
   "metadata": {},
   "outputs": [
    {
     "data": {
      "image/png": "[encoded data removed]",
      "text/plain": [
       "<Figure size 432x288 with 1 Axes>"
      ]
     },
     "metadata": {
      "needs_background": "light"
     },
     "output_type": "display_data"
    }
   ],
   "source": [
    "plot_classification_results(df_with_outlier, slope_out, slope_out2, intercept_out, intercept_out2)"
   ]
  },
  {
   "cell_type": "markdown",
   "id": "cd1a9373",
   "metadata": {},
   "source": [
    "Logistic regression is not sensitive to outliers because it only considers points that are closer to the decision boundary. In comparison, linear regression plots a line that minimizes the sum of squared residuals, and outliers will add a lot to that if not shifting the line."
   ]
  },
  {
   "cell_type": "markdown",
   "id": "749419db",
   "metadata": {},
   "source": [
    "### 2 Logistic Regression and kNN Classification\n",
    "\n",
    "The goal of this problem is to perform classification on the famous MNIST dataset.\n",
    "\n",
    "We have already preprocessed a sample of this dataset (30% of the original dataset), that you can find here: [Download from Google Drive](https://drive.google.com/open?id=1phX7-hv5FNye7mPzddr1oplZIhAgmycz) in the format of NumPy arrays.\n",
    "\n",
    "File mnist data.npy contains an array of the data -each row corresponds to a 28 × 28 digit picture vectorized to create 28*28=784 features, while the file mnist labels.npy contains the respective labels of the images.\n",
    "\n",
    "a) \\[0 pts.\\] Randomly split the dataset, using 20% of the samples as your test set and the remaining 80% as the train set that you will use to fit your models."
   ]
  },
  {
   "cell_type": "code",
   "execution_count": 1,
   "id": "be80d1d1",
   "metadata": {},
   "outputs": [],
   "source": [
    "import numpy as np\n",
    "from sklearn.model_selection import train_test_split\n",
    "\n",
    "def read_mnist_data():\n",
    "    \"\"\"\n",
    "    Load numpy array of MNIST dataset from data.npy file\n",
    "    \n",
    "    :param file_path: string path to dataset \n",
    "    :return: numpy array representation of the mnist dataset\n",
    "    \"\"\"\n",
    "    feature = np.load(\"mnist_data.npy\")\n",
    "    label = np.load(\"mnist_labels.npy\")    \n",
    "    return feature, label"
   ]
  },
  {
   "cell_type": "code",
   "execution_count": 2,
   "id": "83e1cf68",
   "metadata": {},
   "outputs": [],
   "source": [
    "def split_data():\n",
    "    x_train, x_test, y_train, y_test = train_test_split(\n",
    "        read_mnist_data()[0], read_mnist_data()[1], test_size = 0.2, train_size = 0.8, random_state = 50)\n",
    "    return x_train, x_test, y_train, y_test"
   ]
  },
  {
   "cell_type": "markdown",
   "id": "8043a04d",
   "metadata": {},
   "source": [
    "b) \\[2 pts.\\] Try to classify the images using Logistic Regression. Have in mind that the dataset contains more than 2 labels, hence is a multinomial classification problem. What is your train accuracy and test accuracy?"
   ]
  },
  {
   "cell_type": "code",
   "execution_count": 3,
   "id": "41335ffc",
   "metadata": {},
   "outputs": [],
   "source": [
    "from sklearn.linear_model import LogisticRegression\n",
    "from sklearn.metrics import accuracy_score\n",
    "\n",
    "def logistic_regression_classify_mnist():\n",
    "    \"\"\"\n",
    "    Classify mnist dataset with logistic regression\n",
    "    \n",
    "    :param: no parameter \n",
    "    :return: train and test accuracy of the model\n",
    "    \"\"\"\n",
    "    x_train, x_test, y_train, y_test = split_data()\n",
    "    \n",
    "    logreg = LogisticRegression(multi_class='multinomial', solver = 'lbfgs')\n",
    "    logreg.fit(x_train, y_train)\n",
    "    \n",
    "    y_train_pred = logreg.predict(x_train)\n",
    "    y_test_pred = logreg.predict(x_test)\n",
    "    train_accuracy = accuracy_score(y_train, y_train_pred)\n",
    "    test_accuracy = accuracy_score(y_test, y_test_pred)\n",
    "    print('Train accuracy: ' + str(train_accuracy))\n",
    "    print('Test accuracy: ' + str(test_accuracy))\n",
    "    return train_accuracy, test_accuracy"
   ]
  },
  {
   "cell_type": "code",
   "execution_count": 4,
   "id": "81ec9ba9",
   "metadata": {},
   "outputs": [
    {
     "name": "stdout",
     "output_type": "stream",
     "text": [
      "Train accuracy: 0.9598611111111112\n",
      "Test accuracy: 0.8925\n"
     ]
    },
    {
     "name": "stderr",
     "output_type": "stream",
     "text": [
      "/Users/xukaiyan/opt/anaconda3/lib/python3.8/site-packages/sklearn/linear_model/_logistic.py:763: ConvergenceWarning: lbfgs failed to converge (status=1):\n",
      "STOP: TOTAL NO. of ITERATIONS REACHED LIMIT.\n",
      "\n",
      "Increase the number of iterations (max_iter) or scale the data as shown in:\n",
      "    https://scikit-learn.org/stable/modules/preprocessing.html\n",
      "Please also refer to the documentation for alternative solver options:\n",
      "    https://scikit-learn.org/stable/modules/linear_model.html#logistic-regression\n",
      "  n_iter_i = _check_optimize_result(\n"
     ]
    },
    {
     "data": {
      "text/plain": [
       "(0.9598611111111112, 0.8925)"
      ]
     },
     "execution_count": 4,
     "metadata": {},
     "output_type": "execute_result"
    }
   ],
   "source": [
    "logistic_regression_classify_mnist()"
   ]
  },
  {
   "cell_type": "markdown",
   "id": "192450ad",
   "metadata": {},
   "source": [
    "c) \\[3 pts.\\] Now, try to classify the dataset using a k-Nearest Neighbor classifier. Plot the train and test accuracy as you vary k from 1 to 25 with a step size of 2.\n"
   ]
  },
  {
   "cell_type": "code",
   "execution_count": 5,
   "id": "a3651dee",
   "metadata": {},
   "outputs": [],
   "source": [
    "from sklearn.neighbors import KNeighborsClassifier \n",
    "import matplotlib.pyplot as plt\n",
    "\n",
    "def knn_classify_mnist():\n",
    "    \"\"\"\n",
    "    Classify mnist dataset with knn\n",
    "    \n",
    "    :param: no parameter \n",
    "    :return: list of accuracy of different k\n",
    "    \"\"\"\n",
    "    x_train, x_test, y_train, y_test = split_data()\n",
    "    kvals = range(1, 27, 2)\n",
    "    acc = []\n",
    "    test_rep = []\n",
    "    train_rep = []\n",
    "    for k in kvals:        \n",
    "        knn = KNeighborsClassifier(n_neighbors = k).fit(x_train, y_train)    \n",
    "        y_test_pred = knn.predict(x_test)\n",
    "        y_train_pred = knn.predict(x_train)        \n",
    "        acc.append([accuracy_score(y_train, y_train_pred), accuracy_score(y_test, y_test_pred)])\n",
    "    accy = np.array(acc)\n",
    "    \n",
    "    plt.plot(kvals, accy[:, 1], '.-', label = 'Accuracy on Test Data')\n",
    "    plt.plot(kvals, accy[:, 0], '.-', label = 'Accuracy on Training Data')\n",
    "    plt.xticks(np.arange(1, 27, 2))\n",
    "    plt.xlabel(r'$k$')\n",
    "    plt.ylabel('Accuracy')\n",
    "    plt.title('Train/Test Comparision of $k$-NN')\n",
    "    plt.legend(loc = 'best')\n",
    "    plt.show()\n",
    "    \n",
    "    return accy"
   ]
  },
  {
   "cell_type": "code",
   "execution_count": 6,
   "id": "0acd0e19",
   "metadata": {},
   "outputs": [
    {
     "data": {
      "image/png": "[encoded data removed]",
      "text/plain": [
       "<Figure size 432x288 with 1 Axes>"
      ]
     },
     "metadata": {
      "needs_background": "light"
     },
     "output_type": "display_data"
    },
    {
     "data": {
      "text/plain": [
       "array([[1.        , 0.95666667],\n",
       "       [0.97770833, 0.95722222],\n",
       "       [0.97034722, 0.95611111],\n",
       "       [0.96527778, 0.95472222],\n",
       "       [0.96090278, 0.95138889],\n",
       "       [0.95736111, 0.94833333],\n",
       "       [0.95548611, 0.945     ],\n",
       "       [0.95326389, 0.94333333],\n",
       "       [0.95048611, 0.94305556],\n",
       "       [0.94756944, 0.94194444],\n",
       "       [0.94548611, 0.94166667],\n",
       "       [0.94319444, 0.94027778],\n",
       "       [0.9425    , 0.93666667]])"
      ]
     },
     "execution_count": 6,
     "metadata": {},
     "output_type": "execute_result"
    }
   ],
   "source": [
    "knn_classify_mnist()\n",
    "# highest accuracy at k = 3"
   ]
  },
  {
   "cell_type": "markdown",
   "id": "3bd366ec",
   "metadata": {},
   "source": [
    "d) \\[1 pt.\\] Explain your results.\n"
   ]
  },
  {
   "cell_type": "markdown",
   "id": "be963975",
   "metadata": {},
   "source": [
    "The accuracy of testing set slightly increases from k=1 to k=3, and then keeps falling. A larger k tends to smooth the boundary but computationally expensive. A small k is sensitive to the noises and sometimes leads to overfitting. Here, the result is surprising probably because the points are close to each other and it is less sensitive to noise."
   ]
  },
  {
   "cell_type": "markdown",
   "id": "4289da5a",
   "metadata": {},
   "source": [
    "e) \\[5 pts.\\] Now use kNN to explore how a different sized train set affects your results. Plot the accuracy of your model when only using 3,000 of the images in the train set (repeat this experiment using 6,000, 9,000, and so on until you are using the full train set). Use whatever value of k you found that worked best in part (c). You will be doing something similar in Problem 3(d) so it makes sense to run both experiments at the same time."
   ]
  },
  {
   "cell_type": "code",
   "execution_count": 7,
   "id": "8daa59c9",
   "metadata": {},
   "outputs": [],
   "source": [
    "import random\n",
    "from sklearn.utils import shuffle\n",
    "\n",
    "def sample_dataset(x, y, select_size) -> np.array:\n",
    "    \"\"\"\n",
    "    Randomly sample a certain size of the dataset\n",
    "    \n",
    "    :param select_size: the return size of dataset\n",
    "    :return: random subset of dataset\n",
    "    \"\"\"\n",
    "    # shuffle with the same order\n",
    "    X_shuffled, y_shuffled = shuffle(x, y, random_state=0)\n",
    "    X_subset = X_shuffled[0:select_size,:]\n",
    "    y_subset = y_shuffled[0:select_size]\n",
    "    return X_subset, y_subset\n",
    "\n",
    "def knn_experiment():\n",
    "    \"\"\"\n",
    "    Run mnist knn experiment of varying training size\n",
    "    \n",
    "    :param : no parameter, I decided to do train_test_split inside function\n",
    "    :return: list of train and test accuracies of the modeles\n",
    "    \"\"\"\n",
    "    x_train, x_test, y_train, y_test = split_data()\n",
    "    sizes = [3000, 6000, 9000, 12000, 14400]\n",
    "    acc = []\n",
    "    for size in sizes:\n",
    "        x, y = sample_dataset(x_train, y_train, size)\n",
    "        knn = KNeighborsClassifier(n_neighbors = 3).fit(x, y) \n",
    "        y_test_pred = knn.predict(x_test)\n",
    "        y_train_pred = knn.predict(x_train)        \n",
    "        acc.append([accuracy_score(y_train, y_train_pred), accuracy_score(y_test, y_test_pred)])\n",
    "    accy = np.array(acc)\n",
    "    return accy\n",
    "    \n",
    "def plot_accuracies_over_train_sizes():\n",
    "    \"\"\"\n",
    "    Plot the accuracies over training size\n",
    "    \n",
    "    :draw a plot showing the accuracy \n",
    "    \"\"\"\n",
    "    accy = knn_experiment()\n",
    "    \n",
    "    training_size = [3000, 6000, 9000, 12000, 14400]\n",
    "    plt.plot(training_size, accy[:, 1], '.-', label = 'Accuracy on Test Data')\n",
    "    plt.plot(training_size, accy[:, 0], '.-', label = 'Accuracy on Training Data')\n",
    "    plt.xlabel(r'$training_size$')\n",
    "    plt.ylabel('Accuracy')\n",
    "    plt.title('Train/Test Comparision of $k$-NN')\n",
    "    plt.legend(loc = 'best')\n",
    "    plt.show()"
   ]
  },
  {
   "cell_type": "code",
   "execution_count": 8,
   "id": "fb4ae294",
   "metadata": {},
   "outputs": [
    {
     "data": {
      "image/png": "[encoded data removed]",
      "text/plain": [
       "<Figure size 432x288 with 1 Axes>"
      ]
     },
     "metadata": {
      "needs_background": "light"
     },
     "output_type": "display_data"
    }
   ],
   "source": [
    "plot_accuracies_over_train_sizes()"
   ]
  },
  {
   "cell_type": "markdown",
   "id": "ddc36739",
   "metadata": {},
   "source": [
    "f) \\[2 pts.\\] Give a few bullet points explaining the pros and cons of these algorithms and when and why we use logistic regression over linear regression."
   ]
  },
  {
   "cell_type": "markdown",
   "id": "39cb0545",
   "metadata": {},
   "source": [
    "KNN:\n",
    "pros: \n",
    "useful for both regression and classification;\n",
    "intuitive and simple;\n",
    "no assumptions about data\n",
    "\n",
    "cons:\n",
    "The computational cost of classification grows with the size of the training data;\n",
    "Require data scaling;\n",
    "If data has a high dimensionality, points are fat apart in high dimension and points tend to all be at similar distances in high dimension, so hard to tell which are the k nearest neighbors\n",
    "\n",
    "Logistic Regression:\n",
    "Pros:\n",
    "easier to implement, interpret, and very efficient to train;\n",
    "easily extend to multiple classes(multinomial regression) and a natural probabilistic view of class predictions;\n",
    "It not only provides a measure of how appropriate a predictor(coefficient size)is, but also its direction of association (positive or negative);\n",
    "less sensitive to outliers\n",
    "\n",
    "Cons:\n",
    "It constructs linear boundaries, and assumes linearity between the dependent variable and the independent variables, which may not be all the cases;\n",
    "It can only be used to predict discrete functions;\n",
    "It requires average or no multicollinearity between independent variables\n",
    "\n",
    "\n",
    "Linear Regression:\n",
    "Pros:\n",
    "It is the best choice if there indeed exists linear relationship between the dependent and independent variables;\n",
    "simple to implement and easier to interpret the output coefficients;\n",
    "Over-fitting can be avoided using some dimensionality reduction techniques, regularization (L1 and L2) techniques and cross-validation\n",
    "\n",
    "Cons:\n",
    "Outliers can have huge effects on the regression;\n",
    "It looks at a relationship between the mean of the dependent variables and the independent variables, and mean is not a complete description of a single variable, so not a complete description of relationships among variables;\n",
    "Linear regression makes strong assumptions that independent and dependent variables are linearly related which may not be the case\n",
    "\n",
    "When and Why use logistic regression:\n",
    "Logistic regression is firstly considered to handle the classification problems;\n",
    "When the data is discrete rather than continuous\n",
    "When the dependent variables are dichotomous\n",
    "Logistic regression is based on the concept of Maximum Likelihood estimation. According to this estimation, the observed data should be most probable;\n",
    "To perform Logistic regressionm we do not require a linear relationship between the dependent and independent variables under linear regression;\n",
    "It is not sensitive to outliers compared to linear regression"
   ]
  },
  {
   "cell_type": "markdown",
   "id": "0df1a8a5",
   "metadata": {},
   "source": [
    "### PCA - Dimensionality Reduction\n",
    "\n",
    "The original dataset contains 28 ∗ 28 = 784 features. Therefore, we will try to reduce the dimension by using PCA.\n",
    "\n",
    "a) \\[1 pt.\\] Perform PCA decomposition, initially using all principal components. Before performing PCA you usually need to mean-center the data, [see here why](https://scikit-learn.org/stable/auto_examples/preprocessing/plot_scaling_importance.html), which means you have to calculate the mean of each variable (column) and subtract it from the respective column. However, many libraries perform this step implicitly, so consult the documentation of the library you are going to use (e.g. PCA of Sklearn)."
   ]
  },
  {
   "cell_type": "code",
   "execution_count": 9,
   "id": "11d6e141",
   "metadata": {},
   "outputs": [],
   "source": [
    "feature, label = read_mnist_data()"
   ]
  },
  {
   "cell_type": "code",
   "execution_count": 10,
   "id": "f5ab67e8",
   "metadata": {},
   "outputs": [],
   "source": [
    "import pandas as pd\n",
    "from sklearn.preprocessing import StandardScaler\n",
    "from sklearn import preprocessing\n",
    "from sklearn import decomposition\n",
    "\n",
    "def pca_decomposition():\n",
    "    \"\"\"\n",
    "    Perform PCA decomposition over mnist dataset\n",
    "    \n",
    "    :param dataset: mnist dataset in numpy format\n",
    "    :param num_components: number of components to reduce to. If None, use all of components\n",
    "    :return: standardized feature and data after pca\n",
    "    \"\"\"\n",
    "    standardized_data = StandardScaler().fit_transform(feature)\n",
    "    pca = decomposition.PCA()\n",
    "    pca.n_components = 784\n",
    "    pca_data = pca.fit_transform(standardized_data)\n",
    "    return standardized_data, pca_data"
   ]
  },
  {
   "cell_type": "code",
   "execution_count": 11,
   "id": "7a5b4a08",
   "metadata": {},
   "outputs": [
    {
     "data": {
      "text/plain": [
       "(array([[0., 0., 0., ..., 0., 0., 0.],\n",
       "        [0., 0., 0., ..., 0., 0., 0.],\n",
       "        [0., 0., 0., ..., 0., 0., 0.],\n",
       "        ...,\n",
       "        [0., 0., 0., ..., 0., 0., 0.],\n",
       "        [0., 0., 0., ..., 0., 0., 0.],\n",
       "        [0., 0., 0., ..., 0., 0., 0.]]),\n",
       " array([[-1.68933061e+00, -5.94858978e+00,  2.22329310e+00, ...,\n",
       "         -0.00000000e+00, -0.00000000e+00,  0.00000000e+00],\n",
       "        [ 1.45006899e+00, -8.65777894e-01,  4.93813092e+00, ...,\n",
       "          1.99175807e-16,  1.03333626e-16, -8.53346668e-17],\n",
       "        [ 7.17654045e+00, -6.26508914e+00, -3.71630851e+00, ...,\n",
       "          2.15690579e-16,  6.95373134e-16,  2.81895761e-16],\n",
       "        ...,\n",
       "        [ 8.80466757e-01, -1.19282989e+01,  5.22193603e-01, ...,\n",
       "         -1.72756430e-18,  1.64557476e-17, -9.63273971e-18],\n",
       "        [-4.71757761e+00,  9.64237420e-01, -4.15831821e+00, ...,\n",
       "          1.87947817e-17, -2.00681698e-18,  5.10070800e-19],\n",
       "        [-5.15170735e-01, -5.11998585e-01, -3.15890712e+00, ...,\n",
       "          8.28055023e-18,  3.28507009e-19,  5.22194928e-18]]))"
      ]
     },
     "execution_count": 11,
     "metadata": {},
     "output_type": "execute_result"
    }
   ],
   "source": [
    "pca_decomposition()"
   ]
  },
  {
   "cell_type": "markdown",
   "id": "d40b68d3",
   "metadata": {},
   "source": [
    "b) [2 pts.] Plot the CDF of the explained variance as a function of the number of principal components.\n"
   ]
  },
  {
   "cell_type": "code",
   "execution_count": 12,
   "id": "c57bfed4",
   "metadata": {},
   "outputs": [],
   "source": [
    "def plot_pca_cdf():\n",
    "    \"\"\"\n",
    "    Plot CDF of explained variance as a function of number of principal components\n",
    "    \n",
    "    :param: no parameter\n",
    "    :plot a graph\n",
    "    \"\"\"\n",
    "    standardized_data, pca_data = pca_decomposition()\n",
    "    pca = decomposition.PCA()\n",
    "    pca_label = pca.fit(standardized_data)\n",
    "    \n",
    "    # reference: https://medium.com/analytics-vidhya/principal-component-analysis-pca-with-code-on-mnist-dataset-da7de0d07c22\n",
    "    percentage_var_explained = pca_label.explained_variance_ / np.sum(pca_label.explained_variance_)\n",
    "    cum_var_explained = np.cumsum(percentage_var_explained)\n",
    "    \n",
    "    plt.plot(cum_var_explained)\n",
    "    plt.xlabel(\"number of components\")\n",
    "    plt.ylabel(\"CDF of explained variance ratio\")\n",
    "    plt.title(\"CDF of the explained variance ratio versus the number of principle components\")\n",
    "    plt.axhline(y = 0.9, color = 'r')\n",
    "    plt.show()"
   ]
  },
  {
   "cell_type": "code",
   "execution_count": 13,
   "id": "fed60175",
   "metadata": {},
   "outputs": [
    {
     "data": {
      "image/png": "[encoded data removed]",
      "text/plain": [
       "<Figure size 432x288 with 1 Axes>"
      ]
     },
     "metadata": {
      "needs_background": "light"
     },
     "output_type": "display_data"
    }
   ],
   "source": [
    "plot_pca_cdf()"
   ]
  },
  {
   "cell_type": "markdown",
   "id": "8305ed32",
   "metadata": {},
   "source": [
    "c) [1 pt.] Choose a number of principal components to use by arguing why your choice is reasonable as a trade-off between the number of components used and classification performance. Afterwards, train a kNN classifier (choose a k that gave you the best results in Problem 2c.) and report train and test accuracy.\n"
   ]
  },
  {
   "cell_type": "markdown",
   "id": "ea78c158",
   "metadata": {},
   "source": [
    "I choose number of components of 200. Because further increasing number of components does not cause the increase in explained variance as fast as before. There explain close to 90% of the variance after plotting the line on 0.9."
   ]
  },
  {
   "cell_type": "code",
   "execution_count": 16,
   "id": "e7b07433",
   "metadata": {},
   "outputs": [],
   "source": [
    "def knn_classify_mnist_with_pca(k, num_components):\n",
    "    \"\"\"\n",
    "    Classify mnist dataset with K-nearest neighbor\n",
    "    \n",
    "    :param k: number of nearest neighbors\n",
    "    :param num_components: number of components to keep after PCA\n",
    "    :return: train and test accuracy of the model\n",
    "    \"\"\"\n",
    "    standardized_data = StandardScaler().fit_transform(feature)\n",
    "    pca = decomposition.PCA()\n",
    "    pca.n_components = num_components\n",
    "    pca_data = pca.fit_transform(standardized_data)\n",
    "\n",
    "    x_train, x_test, y_train, y_test = train_test_split(\n",
    "        pca_data, label, test_size = 0.2, random_state = 50)\n",
    "\n",
    "    train_scalar = preprocessing.StandardScaler()\n",
    "    x_train = train_scalar.fit_transform(x_train)\n",
    "    x_test = train_scalar.transform(x_test)\n",
    "    \n",
    "    # k = 3 in 2(c)\n",
    "    knn = KNeighborsClassifier(n_neighbors = k)\n",
    "    knn.fit(x_train, y_train)\n",
    "    y_train_pred = knn.predict(x_train)\n",
    "    y_test_pred = knn.predict(x_test)\n",
    "    train_accuracy = accuracy_score(y_train, y_train_pred)\n",
    "    test_accuracy = accuracy_score(y_test, y_test_pred)\n",
    "    print('Train accuracy: ' + str(train_accuracy))\n",
    "    print('Test accuracy: ' + str(test_accuracy))\n",
    "    return train_accuracy, test_accuracy"
   ]
  },
  {
   "cell_type": "code",
   "execution_count": 17,
   "id": "d6a22f5e",
   "metadata": {},
   "outputs": [
    {
     "name": "stdout",
     "output_type": "stream",
     "text": [
      "Train accuracy: 0.9422916666666666\n",
      "Test accuracy: 0.8805555555555555\n"
     ]
    },
    {
     "data": {
      "text/plain": [
       "(0.9422916666666666, 0.8805555555555555)"
      ]
     },
     "execution_count": 17,
     "metadata": {},
     "output_type": "execute_result"
    }
   ],
   "source": [
    "knn_classify_mnist_with_pca(3, 200)"
   ]
  },
  {
   "cell_type": "markdown",
   "id": "dd7687c7",
   "metadata": {},
   "source": [
    "d) [5 pts.] For this part we will perform the following experiment: First, randomly sample a part of your dataset (using a fixed k and all features), of size ranging from 3,000 to 21,000 (the whole dataset) in increments of 3,000. Fit a kNN classifier and plot the running time.\n",
    "Now, use a fixed k and all samples of your dataset, but fit a kNN classifier using a varying number of Principal Components, ranging from 50 to 750 in increments of 100. Plot the running time on the same plot as above.\n",
    "\n",
    "Describe the plot. What seems to affect -as a trend- the fitting time more? Number of samples used for trying, or the dimensions of the data?\n",
    "\n",
    "-Python’s time package may be useful for this problem.\n"
   ]
  },
  {
   "cell_type": "code",
   "execution_count": 19,
   "id": "f76ec967",
   "metadata": {},
   "outputs": [],
   "source": [
    "import time\n",
    "\n",
    "def sample_dataset_pca(select_size):\n",
    "    \"\"\"\n",
    "    Randomly sample a certain size of the dataset\n",
    "    \n",
    "    :param select_size: the return size of dataset\n",
    "    :return: random subset of dataset\n",
    "    \"\"\"\n",
    "    # shuffle with the same order\n",
    "    X_shuffled, y_shuffled = shuffle(feature, label, random_state=0)\n",
    "    X_subset = X_shuffled[0:select_size,:]\n",
    "    y_subset = y_shuffled[0:select_size]\n",
    "    return X_subset, y_subset\n",
    "\n",
    "def train_size_experiment():\n",
    "    \"\"\"\n",
    "    Experiment classifying mnist with different training size\n",
    "    \n",
    "    :param : no parameter\n",
    "    :return: a list of experiment time\n",
    "    \"\"\"\n",
    "    sizes = [3000, 6000, 9000, 12000, 15000, 18000]\n",
    "    acc = []\n",
    "    for size in sizes:\n",
    "        start_time = time.time()\n",
    "        feature_sample, label_sample = sample_dataset_pca(size)\n",
    "        \n",
    "        standardized_data = StandardScaler().fit_transform(feature_sample)\n",
    "        pca = decomposition.PCA()\n",
    "        pca.n_components = 200\n",
    "        pca_data = pca.fit_transform(standardized_data)\n",
    "                \n",
    "        x_train, x_test, y_train, y_test = train_test_split(\n",
    "            pca_data, label_sample, test_size = 0.2, random_state = 50)\n",
    "        \n",
    "        train_scalar = preprocessing.StandardScaler()\n",
    "        x_train = train_scalar.fit_transform(x_train)\n",
    "        x_test = train_scalar.transform(x_test)\n",
    "        \n",
    "        knn = KNeighborsClassifier(n_neighbors = 3)\n",
    "        knn.fit(x_train, y_train)\n",
    "        y_train_pred = knn.predict(x_train)\n",
    "        y_test_pred = knn.predict(x_test) \n",
    "        end_time = time.time()\n",
    "        acc.append(end_time - start_time)\n",
    "    accy = np.array(acc)\n",
    "    return accy\n",
    "\n",
    "def num_component_experiment() :\n",
    "    \"\"\"\n",
    "    Experiment classifying mnist with different number of top principal components\n",
    "    \n",
    "    :param : no parameter\n",
    "    :return: a list of experiment time\n",
    "    \"\"\"\n",
    "    sizes = [50, 150, 250, 350, 450, 550, 650, 750]\n",
    "    acc = []\n",
    "    for size in sizes:\n",
    "        start_time = time.time()        \n",
    "        standardized_data = StandardScaler().fit_transform(feature)\n",
    "        pca = decomposition.PCA()\n",
    "        pca.n_components = size\n",
    "        pca_data = pca.fit_transform(standardized_data)\n",
    "                \n",
    "        x_train, x_test, y_train, y_test = train_test_split(\n",
    "            pca_data, label, test_size = 0.2, random_state = 50)\n",
    "        \n",
    "        train_scalar = preprocessing.StandardScaler()\n",
    "        x_train = train_scalar.fit_transform(x_train)\n",
    "        x_test = train_scalar.transform(x_test)\n",
    "        \n",
    "        knn = KNeighborsClassifier(n_neighbors = 3)\n",
    "        knn.fit(x_train, y_train)\n",
    "        y_train_pred = knn.predict(x_train)\n",
    "        y_test_pred = knn.predict(x_test) \n",
    "        end_time = time.time()\n",
    "        acc.append(end_time - start_time)\n",
    "    accy = np.array(acc)\n",
    "    return accy"
   ]
  },
  {
   "cell_type": "code",
   "execution_count": 21,
   "id": "4ffdaa32",
   "metadata": {},
   "outputs": [
    {
     "name": "stdout",
     "output_type": "stream",
     "text": [
      "[0.64859414 1.30535197 4.27707195 4.52230501 4.81816077 6.97695017]\n",
      "[ 6.11454105  6.62360287 13.56237268  8.47367096  9.75116396 14.0712862\n",
      " 19.55539584 11.035285  ]\n"
     ]
    }
   ],
   "source": [
    "train_size_time = train_size_experiment()\n",
    "num_component_time = num_component_experiment()\n",
    "print(train_size_time)\n",
    "print(num_component_time)"
   ]
  },
  {
   "cell_type": "code",
   "execution_count": 22,
   "id": "c5bf9a8b",
   "metadata": {
    "scrolled": true
   },
   "outputs": [
    {
     "data": {
      "image/png": "[encoded data removed]",
      "text/plain": [
       "<Figure size 432x288 with 1 Axes>"
      ]
     },
     "metadata": {
      "needs_background": "light"
     },
     "output_type": "display_data"
    }
   ],
   "source": [
    "import seaborn as sns\n",
    "\n",
    "plot_train = sns.lineplot(data = train_size_time, label = 'data sizes')\n",
    "plot_principle = sns.lineplot(data = num_component_time, label = 'numbers of principle components')\n",
    "plot_train.set_xlabel(\"data sizes index/ numbers of principle components index\")\n",
    "plot_train.set_ylabel(\"running time (second)\")\n",
    "plot_train.set_title(\"Running time versus Size of Samples/Number of Principle Components\")\n",
    "plt.show()\n",
    "# on the x_axis, the tick is the index in data size and principal component lists. For example, x = 0 means both \n",
    "# data size = 3000 and number of principal components = 50"
   ]
  },
  {
   "cell_type": "markdown",
   "id": "f75cd926",
   "metadata": {},
   "source": [
    "Both running time increase as size of data and number of principle components increase. It looks like that number of principle components affect the fitting time more, but increasing in a higher rate and more vibrantly. It is probably because that k chosen is small, so time for comparing each point is small, and time increases little even though data size increases."
   ]
  },
  {
   "cell_type": "markdown",
   "id": "6c815e2f",
   "metadata": {},
   "source": [
    "e) [3 pts.] Using your results from the previous question, produce the most accurate model you can on the condition that it is faster than 50% of the models you tested. List the values chosen for: k, number of samples, and number of principal components. How does this model compare to your most accurate model (the best model you created when time wasn’t a factor)?\n"
   ]
  },
  {
   "cell_type": "code",
   "execution_count": 23,
   "id": "b9f56283",
   "metadata": {},
   "outputs": [
    {
     "name": "stdout",
     "output_type": "stream",
     "text": [
      "[0.64859414 1.30535197 4.27707195 4.52230501 4.81816077 6.11454105\n",
      " 6.62360287]\n"
     ]
    }
   ],
   "source": [
    "# all the models with running time faster than 50% of the models\n",
    "print(np.sort(np.append(train_size_time, num_component_time))[:7])"
   ]
  },
  {
   "cell_type": "code",
   "execution_count": 61,
   "id": "960608fa",
   "metadata": {},
   "outputs": [],
   "source": [
    "# try models with time 6.62 and 4.81, 6.61\n",
    "\n",
    "# when time = 4.81 and sample size = 15000\n",
    "def trial_time_1():\n",
    "    feature_sample, label_sample = sample_dataset_pca(15000)\n",
    "    standardized_data = StandardScaler().fit_transform(feature_sample)\n",
    "    pca = decomposition.PCA()\n",
    "    pca.n_components = 200\n",
    "    pca_data = pca.fit_transform(standardized_data)\n",
    "                \n",
    "    x_train, x_test, y_train, y_test = train_test_split(\n",
    "        pca_data, label_sample, test_size = 0.2, random_state = 50)\n",
    "    \n",
    "    train_scalar = preprocessing.StandardScaler()\n",
    "    x_train = train_scalar.fit_transform(x_train)\n",
    "    x_test = train_scalar.transform(x_test)\n",
    "    \n",
    "    knn = KNeighborsClassifier(n_neighbors = 3)\n",
    "    knn.fit(x_train, y_train)\n",
    "    y_train_pred = knn.predict(x_train)\n",
    "    y_test_pred = knn.predict(x_test)\n",
    "    train_accuracy = accuracy_score(y_train, y_train_pred)\n",
    "    test_accuracy = accuracy_score(y_test, y_test_pred)\n",
    "    return train_accuracy, test_accuracy\n",
    "\n",
    "# when time = 6.62 and n_components = 150\n",
    "def trial_time_2():\n",
    "    standardized_data = StandardScaler().fit_transform(feature)\n",
    "    pca = decomposition.PCA()\n",
    "    pca.n_components = 150\n",
    "    pca_data = pca.fit_transform(standardized_data)\n",
    "            \n",
    "    x_train, x_test, y_train, y_test = train_test_split(\n",
    "        pca_data, label, test_size = 0.2, random_state = 50)\n",
    "    \n",
    "    train_scalar = preprocessing.StandardScaler()\n",
    "    x_train = train_scalar.fit_transform(x_train)\n",
    "    x_test = train_scalar.transform(x_test)\n",
    "    \n",
    "    knn = KNeighborsClassifier(n_neighbors = 3)\n",
    "    knn.fit(x_train, y_train)\n",
    "    y_train_pred = knn.predict(x_train)\n",
    "    y_test_pred = knn.predict(x_test) \n",
    "    train_accuracy = accuracy_score(y_train, y_train_pred)\n",
    "    test_accuracy = accuracy_score(y_test, y_test_pred)\n",
    "    return train_accuracy, test_accuracy\n",
    "\n",
    "# when time = 6.11 and n_components = 50\n",
    "def trial_time_3():\n",
    "    standardized_data = StandardScaler().fit_transform(feature)\n",
    "    pca = decomposition.PCA()\n",
    "    pca.n_components = 50\n",
    "    pca_data = pca.fit_transform(standardized_data)\n",
    "            \n",
    "    x_train, x_test, y_train, y_test = train_test_split(\n",
    "        pca_data, label, test_size = 0.2, random_state = 50)\n",
    "    \n",
    "    train_scalar = preprocessing.StandardScaler()\n",
    "    x_train = train_scalar.fit_transform(x_train)\n",
    "    x_test = train_scalar.transform(x_test)\n",
    "    \n",
    "    knn = KNeighborsClassifier(n_neighbors = 3)\n",
    "    knn.fit(x_train, y_train)\n",
    "    y_train_pred = knn.predict(x_train)\n",
    "    y_test_pred = knn.predict(x_test) \n",
    "    train_accuracy = accuracy_score(y_train, y_train_pred)\n",
    "    test_accuracy = accuracy_score(y_test, y_test_pred)\n",
    "    return train_accuracy, test_accuracy"
   ]
  },
  {
   "cell_type": "code",
   "execution_count": 62,
   "id": "fd8bf3a5",
   "metadata": {},
   "outputs": [
    {
     "name": "stdout",
     "output_type": "stream",
     "text": [
      "(0.9373333333333334, 0.8943333333333333)\n",
      "(0.9538888888888889, 0.9063888888888889)\n",
      "(0.9665972222222222, 0.9338888888888889)\n"
     ]
    }
   ],
   "source": [
    "print(trial_time_1())\n",
    "print(trial_time_2())\n",
    "print(trial_time_3())"
   ]
  },
  {
   "cell_type": "markdown",
   "id": "a04a23b1",
   "metadata": {},
   "source": [
    "After comparison, I choose the model with k = 3, size = 18000 and number of principal components = 50, which provides the highest accuracy."
   ]
  },
  {
   "cell_type": "code",
   "execution_count": 59,
   "id": "22a0260d",
   "metadata": {},
   "outputs": [],
   "source": [
    "# Assuming model performs the best with full size, and I have gotten that the best k is 3, so I do cross validation\n",
    "# to get the number of principal components that gives the best accuracy.\n",
    "def num_component_experiment() :\n",
    "    \"\"\"\n",
    "    Experiment classifying mnist with different number of top principal components\n",
    "    \n",
    "    :param : no parameter\n",
    "    :return: a list of experiment accuracies\n",
    "    \"\"\"\n",
    "    sizes = [1, 10, 30, 40, 45, 50, 60, 150, 350, 550, 784]\n",
    "    test_acc = []\n",
    "    for size in sizes:\n",
    "        start_time = time.time()        \n",
    "        standardized_data = StandardScaler().fit_transform(feature)\n",
    "        pca = decomposition.PCA()\n",
    "        pca.n_components = size\n",
    "        pca_data = pca.fit_transform(standardized_data)\n",
    "                \n",
    "        x_train, x_test, y_train, y_test = train_test_split(\n",
    "            pca_data, label, test_size = 0.2, random_state = 50)\n",
    "        \n",
    "        train_scalar = preprocessing.StandardScaler()\n",
    "        x_train = train_scalar.fit_transform(x_train)\n",
    "        x_test = train_scalar.transform(x_test)\n",
    "        \n",
    "        knn = KNeighborsClassifier(n_neighbors = 3)\n",
    "        knn.fit(x_train, y_train)\n",
    "        y_test_pred = knn.predict(x_test) \n",
    "        test_accuracy = accuracy_score(y_test, y_test_pred)\n",
    "        test_acc.append(test_accuracy)\n",
    "    accy = np.array(test_acc)\n",
    "    return accy"
   ]
  },
  {
   "cell_type": "code",
   "execution_count": 60,
   "id": "fe8d1a2a",
   "metadata": {},
   "outputs": [
    {
     "name": "stdout",
     "output_type": "stream",
     "text": [
      "[0.24694444 0.88555556 0.93638889 0.93361111 0.93305556 0.93527778\n",
      " 0.93638889 0.90666667 0.78416667 0.55527778 0.37666667]\n"
     ]
    }
   ],
   "source": [
    "print(num_component_experiment())"
   ]
  },
  {
   "cell_type": "markdown",
   "id": "1e680e2f",
   "metadata": {},
   "source": [
    "Therefore, in my case, the best model is k = 3, size = 18000, number of principal = 30. The accuracy is slight higher than the model considering time."
   ]
  },
  {
   "cell_type": "markdown",
   "id": "21f4886d",
   "metadata": {},
   "source": [
    "f) [1 pt.] Bonus point: Plot the images of the 10 first Principal Components. That is, plot the image approximation using each principle component."
   ]
  },
  {
   "cell_type": "code",
   "execution_count": 79,
   "id": "9cbe3924",
   "metadata": {},
   "outputs": [],
   "source": [
    "def plot_components():\n",
    "    \"\"\"\n",
    "    Plot top 10 principal components\n",
    "    \n",
    "    :param top_components: number of top components to plot\n",
    "    :return: 10 images\n",
    "    \"\"\"\n",
    "    sizes = [1,2,3,4,5,6,7,8,9,10]\n",
    "    for size in sizes:\n",
    "        standardized_data = StandardScaler().fit_transform(feature)\n",
    "        pca = decomposition.PCA()\n",
    "        pca.n_components = size\n",
    "        # reference: https://towardsdatascience.com/image-compression-using-principal-component-analysis-pca-253f26740a9f\n",
    "        mnist_pca_reduced = pca.fit_transform(standardized_data)\n",
    "        mnist_pca_recovered = pca.inverse_transform(mnist_pca_reduced)\n",
    "        \n",
    "        image_pca = mnist_pca_recovered[1,:].reshape([28,28])\n",
    "        plt.imshow(image_pca, cmap='gray_r')\n",
    "        plt.title(f'Compressed image - {size}', fontsize=15, pad=15)\n",
    "        plt.show()"
   ]
  },
  {
   "cell_type": "code",
   "execution_count": 80,
   "id": "52243b57",
   "metadata": {},
   "outputs": [
    {
     "data": {
      "image/png": "[encoded data removed]",
      "text/plain": [
       "<Figure size 432x288 with 1 Axes>"
      ]
     },
     "metadata": {
      "needs_background": "light"
     },
     "output_type": "display_data"
    },
    {
     "data": {
      "image/png": "[encoded data removed]",
      "text/plain": [
       "<Figure size 432x288 with 1 Axes>"
      ]
     },
     "metadata": {
      "needs_background": "light"
     },
     "output_type": "display_data"
    },
    {
     "data": {
      "image/png": "[encoded data removed]",
      "text/plain": [
       "<Figure size 432x288 with 1 Axes>"
      ]
     },
     "metadata": {
      "needs_background": "light"
     },
     "output_type": "display_data"
    },
    {
     "data": {
      "image/png": "[encoded data removed]",
      "text/plain": [
       "<Figure size 432x288 with 1 Axes>"
      ]
     },
     "metadata": {
      "needs_background": "light"
     },
     "output_type": "display_data"
    },
    {
     "data": {
      "image/png": "[encoded data removed]",
      "text/plain": [
       "<Figure size 432x288 with 1 Axes>"
      ]
     },
     "metadata": {
      "needs_background": "light"
     },
     "output_type": "display_data"
    },
    {
     "data": {
      "image/png": "[encoded data removed]",
      "text/plain": [
       "<Figure size 432x288 with 1 Axes>"
      ]
     },
     "metadata": {
      "needs_background": "light"
     },
     "output_type": "display_data"
    },
    {
     "data": {
      "image/png": "[encoded data removed]",
      "text/plain": [
       "<Figure size 432x288 with 1 Axes>"
      ]
     },
     "metadata": {
      "needs_background": "light"
     },
     "output_type": "display_data"
    },
    {
     "data": {
      "image/png": "[encoded data removed]",
      "text/plain": [
       "<Figure size 432x288 with 1 Axes>"
      ]
     },
     "metadata": {
      "needs_background": "light"
     },
     "output_type": "display_data"
    },
    {
     "data": {
      "image/png": "[encoded data removed]",
      "text/plain": [
       "<Figure size 432x288 with 1 Axes>"
      ]
     },
     "metadata": {
      "needs_background": "light"
     },
     "output_type": "display_data"
    },
    {
     "data": {
      "image/png": "[encoded data removed]",
      "text/plain": [
       "<Figure size 432x288 with 1 Axes>"
      ]
     },
     "metadata": {
      "needs_background": "light"
     },
     "output_type": "display_data"
    }
   ],
   "source": [
    "plot_components()"
   ]
  },
  {
   "cell_type": "code",
   "execution_count": null,
   "id": "63a59fdb",
   "metadata": {},
   "outputs": [],
   "source": []
  },
  {
   "cell_type": "code",
   "execution_count": null,
   "id": "5463fe31",
   "metadata": {},
   "outputs": [],
   "source": []
  }
 ],
 "metadata": {
  "kernelspec": {
   "display_name": "Python 3 (ipykernel)",
   "language": "python",
   "name": "python3"
  },
  "language_info": {
   "codemirror_mode": {
    "name": "ipython",
    "version": 3
   },
   "file_extension": ".py",
   "mimetype": "text/x-python",
   "name": "python",
   "nbconvert_exporter": "python",
   "pygments_lexer": "ipython3",
   "version": "3.8.8"
  }
 },
 "nbformat": 4,
 "nbformat_minor": 5
}
