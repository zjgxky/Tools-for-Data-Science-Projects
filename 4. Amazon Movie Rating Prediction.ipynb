{
 "cells": [
  {
   "cell_type": "code",
   "execution_count": 1,
   "id": "a8f97061",
   "metadata": {},
   "outputs": [
    {
     "name": "stdout",
     "output_type": "stream",
     "text": [
      "<class 'pandas.core.frame.DataFrame'> (1397533, 12)\n"
     ]
    }
   ],
   "source": [
    "import pandas as pd\n",
    "import seaborn as sns\n",
    "import matplotlib.pyplot as plt\n",
    "from sklearn.neighbors import KNeighborsClassifier\n",
    "from sklearn.model_selection import train_test_split\n",
    "from sklearn.metrics import mean_squared_error, confusion_matrix\n",
    "from sklearn.feature_extraction.text import TfidfVectorizer\n",
    "\n",
    "# Load files into DataFrames\n",
    "X_training_set = pd.read_csv(\"./data/X_train.csv\")\n",
    "print(type(X_training_set), X_training_set.shape)"
   ]
  },
  {
   "cell_type": "code",
   "execution_count": 2,
   "id": "5f2a6496",
   "metadata": {},
   "outputs": [
    {
     "name": "stdout",
     "output_type": "stream",
     "text": [
      "5.0    746520\n",
      "4.0    315587\n",
      "3.0    165727\n",
      "1.0     85615\n",
      "2.0     84084\n",
      "Name: Score, dtype: int64\n"
     ]
    },
    {
     "data": {
      "text/plain": [
       "Id                         0\n",
       "ProductId                  0\n",
       "UserId                     0\n",
       "HelpfulnessNumerator       0\n",
       "HelpfulnessDenominator     0\n",
       "Score                      0\n",
       "Time                       0\n",
       "Summary                   19\n",
       "Text                      53\n",
       "Helpfulness                0\n",
       "ProductMean                0\n",
       "UserMean                   0\n",
       "dtype: int64"
      ]
     },
     "execution_count": 2,
     "metadata": {},
     "output_type": "execute_result"
    },
    {
     "data": {
      "image/png": "[encoded data removed]",
      "text/plain": [
       "<Figure size 432x288 with 1 Axes>"
      ]
     },
     "metadata": {
      "needs_background": "light"
     },
     "output_type": "display_data"
    }
   ],
   "source": [
    "count_first = X_training_set['Score'].value_counts()\n",
    "print(count_first)\n",
    "plt.title('Score distribution')\n",
    "count_first.plot(kind='bar', legend=True, alpha=.5)\n",
    "# highly skewness, consider cut part of records with score 5\n",
    "X_training_set.isna().sum()"
   ]
  },
  {
   "cell_type": "code",
   "execution_count": 3,
   "id": "95e1bab0",
   "metadata": {},
   "outputs": [
    {
     "name": "stdout",
     "output_type": "stream",
     "text": [
      "123958 50050\n"
     ]
    },
    {
     "data": {
      "text/plain": [
       "<AxesSubplot:title={'center':'5 Most Rated User'}>"
      ]
     },
     "execution_count": 3,
     "metadata": {},
     "output_type": "execute_result"
    },
    {
     "data": {
      "image/png": "[encoded data removed]",
      "text/plain": [
       "<Figure size 432x288 with 1 Axes>"
      ]
     },
     "metadata": {
      "needs_background": "light"
     },
     "output_type": "display_data"
    }
   ],
   "source": [
    "from datetime import datetime\n",
    "X_training_set['Time'] = X_training_set['Time'].apply(lambda t: datetime.fromtimestamp(t))\n",
    "\n",
    "num_user = X_training_set['UserId'].nunique()\n",
    "num_product = X_training_set['ProductId'].nunique()\n",
    "print(num_user, num_product)\n",
    "plt.title('5 Most Rated Products')\n",
    "X_training_set['ProductId'].value_counts(sort=True).nlargest(5).plot(kind='bar', legend=True)\n",
    "\n",
    "plt.title('5 Most Rated User')\n",
    "X_training_set['UserId'].value_counts(sort=True).nlargest(5).plot(kind='bar', legend=True)"
   ]
  },
  {
   "cell_type": "code",
   "execution_count": 4,
   "id": "1d07cc29",
   "metadata": {
    "scrolled": true
   },
   "outputs": [],
   "source": [
    "X_training_set = X_training_set.dropna(how='any', subset=['Summary', 'Text'])\n",
    "\n",
    "X_training_set['Comment'] = X_training_set[['Summary', 'Text']].apply(lambda x: ', '.join(x), axis=1)"
   ]
  },
  {
   "cell_type": "code",
   "execution_count": 5,
   "id": "8ec08021",
   "metadata": {},
   "outputs": [
    {
     "name": "stdout",
     "output_type": "stream",
     "text": [
      "4.0    315572\n",
      "5.0    298592\n",
      "3.0    165720\n",
      "1.0     85609\n",
      "2.0     84079\n",
      "Name: Score, dtype: int64\n"
     ]
    }
   ],
   "source": [
    "X_training_set = X_training_set.drop(X_training_set.query('Score == 5').sample(frac=.6).index)\n",
    "count_second = X_training_set['Score'].value_counts()\n",
    "print(count_second)"
   ]
  },
  {
   "cell_type": "code",
   "execution_count": 6,
   "id": "d5ef15c8",
   "metadata": {
    "scrolled": true
   },
   "outputs": [
    {
     "data": {
      "text/html": [
       "<div>\n",
       "<style scoped>\n",
       "    .dataframe tbody tr th:only-of-type {\n",
       "        vertical-align: middle;\n",
       "    }\n",
       "\n",
       "    .dataframe tbody tr th {\n",
       "        vertical-align: top;\n",
       "    }\n",
       "\n",
       "    .dataframe thead th {\n",
       "        text-align: right;\n",
       "    }\n",
       "</style>\n",
       "<table border=\"1\" class=\"dataframe\">\n",
       "  <thead>\n",
       "    <tr style=\"text-align: right;\">\n",
       "      <th></th>\n",
       "      <th>Score</th>\n",
       "      <th>ProductMean</th>\n",
       "      <th>UserMean</th>\n",
       "      <th>Comment</th>\n",
       "    </tr>\n",
       "  </thead>\n",
       "  <tbody>\n",
       "    <tr>\n",
       "      <th>0</th>\n",
       "      <td>4.0</td>\n",
       "      <td>4.483871</td>\n",
       "      <td>4.333333</td>\n",
       "      <td>good version of a classic, This is a charming ...</td>\n",
       "    </tr>\n",
       "    <tr>\n",
       "      <th>1</th>\n",
       "      <td>3.0</td>\n",
       "      <td>4.483871</td>\n",
       "      <td>3.600000</td>\n",
       "      <td>Good but not as moving, It was good but not as...</td>\n",
       "    </tr>\n",
       "    <tr>\n",
       "      <th>2</th>\n",
       "      <td>3.0</td>\n",
       "      <td>4.483871</td>\n",
       "      <td>3.800000</td>\n",
       "      <td>Winkler's Performance was ok at best!, Don't g...</td>\n",
       "    </tr>\n",
       "    <tr>\n",
       "      <th>3</th>\n",
       "      <td>5.0</td>\n",
       "      <td>4.483871</td>\n",
       "      <td>3.600000</td>\n",
       "      <td>It's an enjoyable twist on the classic story, ...</td>\n",
       "    </tr>\n",
       "    <tr>\n",
       "      <th>4</th>\n",
       "      <td>4.0</td>\n",
       "      <td>4.483871</td>\n",
       "      <td>4.176471</td>\n",
       "      <td>Best Scrooge yet, This is one of the best Scro...</td>\n",
       "    </tr>\n",
       "  </tbody>\n",
       "</table>\n",
       "</div>"
      ],
      "text/plain": [
       "   Score  ProductMean  UserMean  \\\n",
       "0    4.0     4.483871  4.333333   \n",
       "1    3.0     4.483871  3.600000   \n",
       "2    3.0     4.483871  3.800000   \n",
       "3    5.0     4.483871  3.600000   \n",
       "4    4.0     4.483871  4.176471   \n",
       "\n",
       "                                             Comment  \n",
       "0  good version of a classic, This is a charming ...  \n",
       "1  Good but not as moving, It was good but not as...  \n",
       "2  Winkler's Performance was ok at best!, Don't g...  \n",
       "3  It's an enjoyable twist on the classic story, ...  \n",
       "4  Best Scrooge yet, This is one of the best Scro...  "
      ]
     },
     "execution_count": 6,
     "metadata": {},
     "output_type": "execute_result"
    }
   ],
   "source": [
    "X_train_processed = X_training_set.drop(columns=['Id', 'ProductId', 'UserId', 'HelpfulnessNumerator', 'HelpfulnessDenominator', 'Time', 'Text', 'Summary', 'Helpfulness'])\n",
    "X_train_processed.head()"
   ]
  },
  {
   "cell_type": "code",
   "execution_count": 7,
   "id": "c327ae56",
   "metadata": {},
   "outputs": [],
   "source": [
    "X_train, X_test, Y_train, Y_test = train_test_split(\n",
    "    X_train_processed[['Comment', 'ProductMean', 'UserMean']],\n",
    "    X_train_processed['Score'],\n",
    "    test_size=1/5.0,\n",
    "    random_state=0\n",
    ")"
   ]
  },
  {
   "cell_type": "code",
   "execution_count": 8,
   "id": "bb9c6a7e",
   "metadata": {},
   "outputs": [
    {
     "name": "stdout",
     "output_type": "stream",
     "text": [
      "<class 'scipy.sparse.csr.csr_matrix'> (1, 759657)\n",
      "<class 'scipy.sparse.csr.csr_matrix'> (1, 759657)\n",
      "<class 'scipy.sparse.csr.csr_matrix'> (1, 189915)\n",
      "<class 'scipy.sparse.csr.csr_matrix'> (1, 189915)\n",
      "<class 'scipy.sparse.csr.csr_matrix'> (2, 759657)\n",
      "<class 'scipy.sparse.csr.csr_matrix'> (2, 189915)\n"
     ]
    }
   ],
   "source": [
    "import scipy.sparse\n",
    "from scipy.sparse import csr_matrix\n",
    "\n",
    "Product_matrix_train = csr_matrix(X_train['ProductMean'])\n",
    "print(type(Product_matrix_train), Product_matrix_train.shape)\n",
    "User_matrix_train = csr_matrix(X_train['UserMean'])\n",
    "print(type(User_matrix_train), User_matrix_train.shape)\n",
    "Product_matrix_test = csr_matrix(X_test['ProductMean'])\n",
    "print(type(Product_matrix_test), Product_matrix_test.shape)\n",
    "User_matrix_test = csr_matrix(X_test['UserMean'])\n",
    "print(type(User_matrix_test), User_matrix_test.shape)\n",
    "Average_matrix_train = scipy.sparse.vstack([Product_matrix_train, User_matrix_train])\n",
    "Average_matrix_test = scipy.sparse.vstack([Product_matrix_test, User_matrix_test])\n",
    "\n",
    "\"\"\"\n",
    "from sklearn.preprocessing import normalize\n",
    "Average_matrix_train = normalize(Average_matrix_train, norm='l1', axis=0)\n",
    "Average_matrix_test = normalize(Average_matrix_test, norm='l1', axis=0)\n",
    "\"\"\"\n",
    "\n",
    "print(type(Average_matrix_train), Average_matrix_train.shape)\n",
    "print(type(Average_matrix_test), Average_matrix_test.shape)"
   ]
  },
  {
   "cell_type": "code",
   "execution_count": 9,
   "id": "1a2232e9",
   "metadata": {},
   "outputs": [
    {
     "name": "stdout",
     "output_type": "stream",
     "text": [
      "<class 'scipy.sparse.csr.csr_matrix'> (759657, 150363)\n",
      "<class 'scipy.sparse.csr.csr_matrix'> (189915, 150363)\n"
     ]
    }
   ],
   "source": [
    "text_vectorizer = TfidfVectorizer(stop_words='english', min_df = 3, max_df = 0.9, token_pattern=r\"(?u)\\b\\w\\w+\\b|!|\\?|\\\"|\\'\")\n",
    "X_train_comment = X_train.drop(columns=['UserMean', 'ProductMean'])\n",
    "X_test_comment = X_test.drop(columns=['UserMean', 'ProductMean'])\n",
    "data_train = text_vectorizer.fit_transform(X_train_comment['Comment'])\n",
    "print(type(data_train), data_train.shape)\n",
    "data_test = text_vectorizer.transform(X_test_comment['Comment'])\n",
    "print(type(data_test), data_test.shape)"
   ]
  },
  {
   "cell_type": "code",
   "execution_count": 10,
   "id": "4608bfb1",
   "metadata": {},
   "outputs": [
    {
     "name": "stdout",
     "output_type": "stream",
     "text": [
      "<class 'scipy.sparse.coo.coo_matrix'> (759657, 150365)\n",
      "<class 'scipy.sparse.coo.coo_matrix'> (189915, 150363)\n"
     ]
    }
   ],
   "source": [
    "total_train = scipy.sparse.hstack([Average_matrix_train.T, data_train])\n",
    "total_test = scipy.sparse.hstack([Average_matrix_test.T, data_test])\n",
    "print(type(total_train), total_train.shape)\n",
    "print(type(total_test), data_test.shape)"
   ]
  },
  {
   "cell_type": "code",
   "execution_count": 11,
   "id": "075e088c",
   "metadata": {
    "scrolled": true
   },
   "outputs": [
    {
     "name": "stderr",
     "output_type": "stream",
     "text": [
      "/Users/xukaiyan/opt/anaconda3/lib/python3.8/site-packages/sklearn/linear_model/_logistic.py:763: ConvergenceWarning: lbfgs failed to converge (status=1):\n",
      "STOP: TOTAL NO. of ITERATIONS REACHED LIMIT.\n",
      "\n",
      "Increase the number of iterations (max_iter) or scale the data as shown in:\n",
      "    https://scikit-learn.org/stable/modules/preprocessing.html\n",
      "Please also refer to the documentation for alternative solver options:\n",
      "    https://scikit-learn.org/stable/modules/linear_model.html#logistic-regression\n",
      "  n_iter_i = _check_optimize_result(\n"
     ]
    },
    {
     "name": "stdout",
     "output_type": "stream",
     "text": [
      "MSE is 0.6994181607561277\n",
      "              precision    recall  f1-score   support\n",
      "\n",
      "         1.0       0.65      0.65      0.65     17238\n",
      "         2.0       0.43      0.32      0.37     16890\n",
      "         3.0       0.48      0.42      0.45     33208\n",
      "         4.0       0.57      0.63      0.60     63195\n",
      "         5.0       0.71      0.73      0.72     59384\n",
      "\n",
      "    accuracy                           0.60    189915\n",
      "   macro avg       0.57      0.55      0.56    189915\n",
      "weighted avg       0.59      0.60      0.59    189915\n",
      "\n"
     ]
    }
   ],
   "source": [
    "from sklearn.naive_bayes import GaussianNB\n",
    "from sklearn.ensemble import RandomForestClassifier\n",
    "from sklearn.linear_model import LogisticRegression\n",
    "from sklearn.metrics import classification_report, f1_score, accuracy_score, confusion_matrix\n",
    "import sklearn.svm as svm\n",
    "import sklearn.model_selection as model_selection\n",
    "\n",
    "model = LogisticRegression(random_state = 0, C = 4, max_iter = 500).fit(total_train, Y_train)\n",
    "Y_predict = model.predict(total_test)\n",
    "\n",
    "\"\"\"\n",
    "model = svm.SVC(kernel = 'linear').fit(total_train, Y_train)\n",
    "Y_predict = model.predict(total_test)\n",
    "\n",
    "# take too long to run\n",
    "model = RandomForestClassifier(n_estimators=100).fit(total_train, Y_train)\n",
    "Y_predict = model.predict(total_test)\n",
    "\"\"\"\n",
    "\n",
    "MSE = mean_squared_error(Y_predict, Y_test)\n",
    "print(\"MSE is \" + str(MSE))\n",
    "print(classification_report(Y_test,Y_predict))"
   ]
  },
  {
   "cell_type": "code",
   "execution_count": 12,
   "id": "ca945f76",
   "metadata": {
    "scrolled": true
   },
   "outputs": [
    {
     "data": {
      "image/png": "[encoded data removed]",
      "text/plain": [
       "<Figure size 432x288 with 2 Axes>"
      ]
     },
     "metadata": {
      "needs_background": "light"
     },
     "output_type": "display_data"
    }
   ],
   "source": [
    "cm = confusion_matrix(Y_test, Y_predict, normalize='true')\n",
    "sns.heatmap(cm, annot=True)\n",
    "plt.title('Confusion matrix of the classifier')\n",
    "plt.xlabel('Predicted')\n",
    "plt.ylabel('True')\n",
    "plt.show()"
   ]
  },
  {
   "cell_type": "code",
   "execution_count": 13,
   "id": "8ff1bf54",
   "metadata": {
    "scrolled": true
   },
   "outputs": [
    {
     "name": "stdout",
     "output_type": "stream",
     "text": [
      "Id                             0\n",
      "ProductId                      0\n",
      "UserId                         0\n",
      "HelpfulnessNumerator           0\n",
      "HelpfulnessDenominator         0\n",
      "Time                           0\n",
      "Summary                        6\n",
      "Text                           9\n",
      "Helpfulness                    0\n",
      "ProductMean                   10\n",
      "UserMean                      10\n",
      "Score                     300000\n",
      "dtype: int64\n"
     ]
    }
   ],
   "source": [
    "X_submission_set = pd.read_csv(\"./data/X_test.csv\")\n",
    "print(X_submission_set.isna().sum())"
   ]
  },
  {
   "cell_type": "code",
   "execution_count": 14,
   "id": "1ed582ae",
   "metadata": {},
   "outputs": [
    {
     "name": "stdout",
     "output_type": "stream",
     "text": [
      "<class 'pandas.core.frame.DataFrame'> (300000, 4)\n",
      "<class 'numpy.ndarray'> (300000,)\n"
     ]
    }
   ],
   "source": [
    "X_submission_set['ProductMean'] = X_submission_set['ProductMean'].fillna(X_submission_set['ProductMean'].mean())\n",
    "X_submission_set['UserMean'] = X_submission_set['UserMean'].fillna(X_submission_set['UserMean'].mean())\n",
    "X_submission_set['Summary'] = X_submission_set['Summary'].fillna(value = 'none')\n",
    "X_submission_set['Text'] = X_submission_set['Text'].fillna(value = 'none')\n",
    "\n",
    "X_submission_set['Comment'] = X_submission_set[['Summary', 'Text']].apply(lambda y: ', '.join(y), axis=1)\n",
    "X_submission_processed = X_submission_set.drop(columns=['Id', 'ProductId', 'UserId', 'HelpfulnessNumerator', 'HelpfulnessDenominator', 'Time', 'Text', 'Summary', 'Helpfulness'])\n",
    "print(type(X_submission_processed), X_submission_processed.shape)\n",
    "\n",
    "Product_matrix_submission = csr_matrix(X_submission_processed['ProductMean'])\n",
    "User_matrix_submission = csr_matrix(X_submission_processed['UserMean'])\n",
    "Average_matrix_submission = scipy.sparse.vstack([Product_matrix_submission, User_matrix_submission])\n",
    "\n",
    "X_submission_comment = X_submission_processed.drop(columns=['UserMean', 'ProductMean'])\n",
    "data_submission = text_vectorizer.transform(X_submission_comment['Comment'])\n",
    "\n",
    "total_submission = scipy.sparse.hstack([Average_matrix_submission.T, data_submission])\n",
    "# submission_normalized = normalize(total_submission, norm='l1', axis=0)\n",
    "\n",
    "Score_predict = model.predict(total_submission)\n",
    "print(type(Score_predict), Score_predict.shape)\n",
    "\n",
    "X_submission_set['Score'] = Score_predict\n",
    "submission = X_submission_set[['Id', 'Score']]\n",
    "submission.to_csv(\"./data/submission.csv\", index=False)"
   ]
  }
 ],
 "metadata": {
  "kernelspec": {
   "display_name": "Python 3 (ipykernel)",
   "language": "python",
   "name": "python3"
  },
  "language_info": {
   "codemirror_mode": {
    "name": "ipython",
    "version": 3
   },
   "file_extension": ".py",
   "mimetype": "text/x-python",
   "name": "python",
   "nbconvert_exporter": "python",
   "pygments_lexer": "ipython3",
   "version": "3.8.8"
  }
 },
 "nbformat": 4,
 "nbformat_minor": 5
}
